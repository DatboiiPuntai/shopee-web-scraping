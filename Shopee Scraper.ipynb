{
 "cells": [
  {
   "cell_type": "code",
   "execution_count": 1,
   "id": "77288034",
   "metadata": {},
   "outputs": [
    {
     "name": "stdout",
     "output_type": "stream",
     "text": [
      "Requirement already satisfied: selenium in c:\\users\\pantai suyasri\\appdata\\roaming\\python\\python39\\site-packages (4.5.0)\n",
      "Requirement already satisfied: certifi>=2021.10.8 in d:\\anaconda3\\lib\\site-packages (from selenium) (2021.10.8)\n",
      "Requirement already satisfied: trio~=0.17 in c:\\users\\pantai suyasri\\appdata\\roaming\\python\\python39\\site-packages (from selenium) (0.22.0)\n",
      "Requirement already satisfied: urllib3[socks]~=1.26 in d:\\anaconda3\\lib\\site-packages (from selenium) (1.26.9)\n",
      "Requirement already satisfied: trio-websocket~=0.9 in c:\\users\\pantai suyasri\\appdata\\roaming\\python\\python39\\site-packages (from selenium) (0.9.2)\n",
      "Requirement already satisfied: sniffio in d:\\anaconda3\\lib\\site-packages (from trio~=0.17->selenium) (1.2.0)\n",
      "Requirement already satisfied: exceptiongroup>=1.0.0rc9 in c:\\users\\pantai suyasri\\appdata\\roaming\\python\\python39\\site-packages (from trio~=0.17->selenium) (1.0.0rc9)\n",
      "Requirement already satisfied: outcome in c:\\users\\pantai suyasri\\appdata\\roaming\\python\\python39\\site-packages (from trio~=0.17->selenium) (1.2.0)\n",
      "Requirement already satisfied: async-generator>=1.9 in c:\\users\\pantai suyasri\\appdata\\roaming\\python\\python39\\site-packages (from trio~=0.17->selenium) (1.10)\n",
      "Requirement already satisfied: idna in d:\\anaconda3\\lib\\site-packages (from trio~=0.17->selenium) (3.3)\n",
      "Requirement already satisfied: sortedcontainers in d:\\anaconda3\\lib\\site-packages (from trio~=0.17->selenium) (2.4.0)\n",
      "Requirement already satisfied: cffi>=1.14 in d:\\anaconda3\\lib\\site-packages (from trio~=0.17->selenium) (1.15.0)\n",
      "Requirement already satisfied: attrs>=19.2.0 in d:\\anaconda3\\lib\\site-packages (from trio~=0.17->selenium) (21.4.0)\n",
      "Requirement already satisfied: pycparser in d:\\anaconda3\\lib\\site-packages (from cffi>=1.14->trio~=0.17->selenium) (2.21)\n",
      "Requirement already satisfied: wsproto>=0.14 in c:\\users\\pantai suyasri\\appdata\\roaming\\python\\python39\\site-packages (from trio-websocket~=0.9->selenium) (1.2.0)\n",
      "Requirement already satisfied: PySocks!=1.5.7,<2.0,>=1.5.6 in d:\\anaconda3\\lib\\site-packages (from urllib3[socks]~=1.26->selenium) (1.7.1)\n",
      "Requirement already satisfied: h11<1,>=0.9.0 in c:\\users\\pantai suyasri\\appdata\\roaming\\python\\python39\\site-packages (from wsproto>=0.14->trio-websocket~=0.9->selenium) (0.14.0)\n"
     ]
    }
   ],
   "source": [
    "!pip install selenium"
   ]
  },
  {
   "cell_type": "code",
   "execution_count": null,
   "id": "01dfb767",
   "metadata": {},
   "outputs": [],
   "source": [
    "from selenium import webdriver"
   ]
  },
  {
   "cell_type": "markdown",
   "id": "08c2aa3e",
   "metadata": {},
   "source": [
    "chromedriver_path = r\"D:\\Programming\\Bootcamp#27\\Class7\\chromedriver.exe\""
   ]
  },
  {
   "cell_type": "markdown",
   "id": "2ec30ece",
   "metadata": {},
   "source": [
    "driver = webdriver.Chrome(executable_path=chromedriver_path)\n",
    "driver"
   ]
  },
  {
   "cell_type": "code",
   "execution_count": null,
   "id": "d6f86bc3",
   "metadata": {},
   "outputs": [],
   "source": [
    "!pip install webdriver-manager"
   ]
  },
  {
   "cell_type": "code",
   "execution_count": null,
   "id": "bbe7302a",
   "metadata": {},
   "outputs": [],
   "source": [
    "from selenium.webdriver.chrome.service import Service\n",
    "from webdriver_manager.chrome import ChromeDriverManager"
   ]
  },
  {
   "cell_type": "code",
   "execution_count": null,
   "id": "13ce585d",
   "metadata": {},
   "outputs": [],
   "source": [
    "driver = webdriver.Chrome(service=Service(ChromeDriverManager().install()))"
   ]
  },
  {
   "cell_type": "markdown",
   "id": "b550e258",
   "metadata": {},
   "source": [
    "driver = webdriver.Chrome(service=Service(chromedriver_path))"
   ]
  },
  {
   "cell_type": "code",
   "execution_count": null,
   "id": "f98f6fde",
   "metadata": {},
   "outputs": [],
   "source": [
    "driver.get('https://shopee.co.th/')"
   ]
  },
  {
   "cell_type": "code",
   "execution_count": null,
   "id": "e5f92d1c",
   "metadata": {},
   "outputs": [],
   "source": [
    "from selenium.webdriver.common.by import By"
   ]
  },
  {
   "cell_type": "code",
   "execution_count": null,
   "id": "4b7fabea",
   "metadata": {},
   "outputs": [],
   "source": [
    "thai_button_element = driver.find_element(By.XPATH, '/html/body/div[2]/div[1]/div[1]/div/div[3]/div[1]/button')\n",
    "thai_button_element"
   ]
  },
  {
   "cell_type": "code",
   "execution_count": null,
   "id": "b3d49908",
   "metadata": {},
   "outputs": [],
   "source": [
    "button_element = driver.find_element(By.CLASS_NAME, 'shopee-button-outline')\n",
    "button_element"
   ]
  },
  {
   "cell_type": "code",
   "execution_count": null,
   "id": "c4b424d0",
   "metadata": {},
   "outputs": [],
   "source": [
    "thai_button_element.click()"
   ]
  },
  {
   "cell_type": "markdown",
   "id": "820542e4",
   "metadata": {},
   "source": [
    "driver.find_element(By.XPATH, '/html/body/div[1]/div/div[2]/div/div/shopee-banner-popup-stateful//div/div/div/div/div/svg')"
   ]
  },
  {
   "cell_type": "code",
   "execution_count": null,
   "id": "0b63b813",
   "metadata": {},
   "outputs": [],
   "source": [
    "close_popup_element = driver.execute_script(\"return document.querySelector('shopee-banner-popup-stateful').shadowRoot.querySelector('div.shopee-popup__close-btn')\")\n",
    "close_popup_element"
   ]
  },
  {
   "cell_type": "code",
   "execution_count": null,
   "id": "2049aa19",
   "metadata": {},
   "outputs": [],
   "source": [
    "close_popup_element.click()"
   ]
  },
  {
   "cell_type": "code",
   "execution_count": null,
   "id": "4362930b",
   "metadata": {},
   "outputs": [],
   "source": [
    "search_element = driver.find_element(By.XPATH, '/html/body/div[1]/div/header/div[2]/div/div[1]/div[1]/div/form/input')\n",
    "search_element.send_keys('เก้าอี้ ergonomic')"
   ]
  },
  {
   "cell_type": "code",
   "execution_count": null,
   "id": "7c7ae42d",
   "metadata": {},
   "outputs": [],
   "source": [
    "from selenium.webdriver.common.keys import Keys"
   ]
  },
  {
   "cell_type": "code",
   "execution_count": null,
   "id": "162322e5",
   "metadata": {},
   "outputs": [],
   "source": [
    "search_element.send_keys(Keys.ENTER)"
   ]
  },
  {
   "cell_type": "code",
   "execution_count": null,
   "id": "81b66c5c",
   "metadata": {},
   "outputs": [],
   "source": [
    "driver.execute_script(\"document.body.style.zoom='10%'\")"
   ]
  },
  {
   "cell_type": "code",
   "execution_count": null,
   "id": "0a8dad24",
   "metadata": {},
   "outputs": [],
   "source": [
    "data = driver.page_source\n",
    "data"
   ]
  },
  {
   "cell_type": "code",
   "execution_count": null,
   "id": "33560627",
   "metadata": {},
   "outputs": [],
   "source": [
    "import bs4\n",
    "soup = bs4.BeautifulSoup(data)\n",
    "soup"
   ]
  },
  {
   "cell_type": "code",
   "execution_count": null,
   "id": "48aaf304",
   "metadata": {},
   "outputs": [],
   "source": [
    "all_product = soup.find_all('div',{'class':\"col-xs-2-4 shopee-search-item-result__item\"})\n",
    "all_product"
   ]
  },
  {
   "cell_type": "code",
   "execution_count": null,
   "id": "072ea11a",
   "metadata": {},
   "outputs": [],
   "source": [
    "product = all_product[0]\n",
    "title_element = product.find('div',{'class':'ie3A+n bM+7UW Cve6sh'})\n",
    "title_text = title_element.text\n",
    "title_text\n",
    "\n",
    "price_element = product.find('div',{'class':'hpDKMN'})\n",
    "price_text = price_element.text\n",
    "price_text\n",
    "\n",
    "sales_element = product.find('div',{'class':'r6HknA uEPGHT'})\n",
    "if sales_element is None:\n",
    "    sales_text = None\n",
    "else:\n",
    "    sales_text = sales_element.text\n",
    "\n",
    "product_link_element = product.find('a')\n",
    "product_link = product_link_element.get('href')\n",
    "product_link"
   ]
  },
  {
   "cell_type": "code",
   "execution_count": null,
   "id": "efbf43c3",
   "metadata": {},
   "outputs": [],
   "source": [
    "data_dict = dict()\n",
    "data_dict['title'] = title_text\n",
    "data_dict['price'] = price_text\n",
    "data_dict['sales'] = sales_text\n",
    "data_dict['link'] = product_link\n",
    "data_dict\n"
   ]
  },
  {
   "cell_type": "code",
   "execution_count": null,
   "id": "b9f0947e",
   "metadata": {},
   "outputs": [],
   "source": [
    "data_dict_list = []\n",
    "for product in all_product:\n",
    "    title_element = product.find('div',{'class':'ie3A+n bM+7UW Cve6sh'})\n",
    "    title_text = title_element.text\n",
    "\n",
    "    price_element = product.find('div',{'class':'hpDKMN'})\n",
    "    price_text = price_element.text\n",
    "\n",
    "    sales_element = product.find('div',{'class':'r6HknA uEPGHT'})\n",
    "    if sales_element is None:\n",
    "        sales_text = None\n",
    "    else:\n",
    "        sales_text = sales_element.text\n",
    "\n",
    "    product_link_element = product.find('a')\n",
    "    product_link = product_link_element.get('href')\n",
    "    \n",
    "    data_dict = dict()\n",
    "    data_dict['title'] = title_text\n",
    "    data_dict['price'] = price_text\n",
    "    data_dict['sales'] = sales_text\n",
    "    data_dict['link'] = product_link\n",
    "    data_dict_list.append(data_dict)\n"
   ]
  },
  {
   "cell_type": "code",
   "execution_count": null,
   "id": "3abeb09a",
   "metadata": {},
   "outputs": [],
   "source": [
    "data_dict_list"
   ]
  },
  {
   "cell_type": "code",
   "execution_count": null,
   "id": "c7fcf614",
   "metadata": {},
   "outputs": [],
   "source": [
    "import pandas as pd\n",
    "data_df = pd.DataFrame(data_dict_list)\n",
    "data_df"
   ]
  },
  {
   "cell_type": "code",
   "execution_count": null,
   "id": "985d46ed",
   "metadata": {},
   "outputs": [],
   "source": [
    "price_1 = '฿6,698฿4,699'\n",
    "price_2 = '฿2,616 - ฿2,772'\n",
    "price_3 = '฿961'"
   ]
  },
  {
   "cell_type": "code",
   "execution_count": null,
   "id": "7e6290a2",
   "metadata": {},
   "outputs": [],
   "source": [
    "import re"
   ]
  },
  {
   "cell_type": "code",
   "execution_count": null,
   "id": "f3f45b2e",
   "metadata": {},
   "outputs": [],
   "source": [
    "price = price_2\n",
    "def clean_price(price):\n",
    "    result = re.findall(r'[0-9.,]+',price)\n",
    "    if '-' in price:\n",
    "        original_price = None\n",
    "        min_price = result[0]\n",
    "        max_price = result[1]\n",
    "    elif len(result) == 2:\n",
    "        original_price = result[0]\n",
    "        min_price = result[1]\n",
    "        max_price = result[1]\n",
    "    elif len(result) == 1:\n",
    "        original_price = result[0]\n",
    "        min_price = result[0]\n",
    "        max_price = result[0]\n",
    "        \n",
    "    price_list =  [original_price,min_price,max_price]\n",
    "    price_clean_list = []\n",
    "    for price in price_list:\n",
    "        if price is None:\n",
    "            price_clean_list.append(None)\n",
    "        else:\n",
    "            price_clean_list.append(int(price.replace(',','')))\n",
    "    \n",
    "    return price_clean_list\n"
   ]
  },
  {
   "cell_type": "code",
   "execution_count": null,
   "id": "8a9a8fa9",
   "metadata": {},
   "outputs": [],
   "source": [
    "price_clean_ser = data_df['price'].apply(clean_price)\n",
    "price_clean_df = pd.DataFrame(price_clean_ser)\n",
    "price_clean_df"
   ]
  },
  {
   "cell_type": "code",
   "execution_count": null,
   "id": "9a8c70c6",
   "metadata": {},
   "outputs": [],
   "source": [
    "price_clean_list = list(price_clean_ser)\n",
    "price_clean_df = pd.DataFrame(price_clean_list, columns=['Original Price', 'Min Price', 'Max Price'])\n",
    "price_clean_df"
   ]
  },
  {
   "cell_type": "code",
   "execution_count": null,
   "id": "97715128",
   "metadata": {},
   "outputs": [],
   "source": []
  },
  {
   "cell_type": "code",
   "execution_count": null,
   "id": "80d8404d",
   "metadata": {},
   "outputs": [],
   "source": [
    "price_data_df = pd.concat([data_df,price_clean_df],axis=1)\n",
    "price_data_df"
   ]
  },
  {
   "cell_type": "code",
   "execution_count": null,
   "id": "ead1133c",
   "metadata": {},
   "outputs": [],
   "source": [
    "from selenium import webdriver\n",
    "from selenium.webdriver.chrome.service import Service\n",
    "from webdriver_manager.chrome import ChromeDriverManager\n",
    "from selenium.webdriver.common.by import By\n",
    "from selenium.webdriver.common.keys import Keys\n",
    "import time \n",
    "import pandas as pd\n",
    "import bs4\n",
    "import re"
   ]
  },
  {
   "cell_type": "code",
   "execution_count": null,
   "id": "da270767",
   "metadata": {
    "scrolled": true
   },
   "outputs": [],
   "source": [
    "def get_data():\n",
    "    driver = webdriver.Chrome(service=Service(ChromeDriverManager().install()))\n",
    "    driver.get('https://shopee.co.th/')\n",
    "    \n",
    "    thai_button = '/html/body/div[2]/div[1]/div[1]/div/div[3]/div[1]/button'\n",
    "    thai_button_element = driver.find_element(By.XPATH, thai_button)\n",
    "    thai_button_element.click() \n",
    "    close_popup_element = driver.execute_script(\"return document.querySelector('shopee-banner-popup-stateful').shadowRoot.querySelector('div.shopee-popup__close-btn')\")\n",
    "    close_popup_element.click() \n",
    "    # Click to get rid of popups\n",
    "    \n",
    "    search_element = driver.find_element(By.XPATH, '/html/body/div[1]/div/header/div[2]/div/div[1]/div[1]/div/form/input')\n",
    "    search_element.send_keys('เก้าอี้ ergonomic')\n",
    "    search_element.send_keys(Keys.ENTER)\n",
    "    \n",
    "    driver.execute_script(\"document.body.style.zoom='10%'\")\n",
    "    time.sleep(5)\n",
    "    data = driver.page_source\n",
    "    # Wait 5 second for whole page to load before getting page source\n",
    "    \n",
    "    return data\n",
    "\n",
    "def parse_data(data):\n",
    "    soup = bs4.BeautifulSoup(data)\n",
    "    all_product = soup.find_all('div',{'class':'col-xs-2-4 shopee-search-item-result__item'}) \n",
    "    data_dict_list = []\n",
    "    for product in all_product:\n",
    "        title_element = product.find('div',{'class':'ie3A+n bM+7UW Cve6sh'})\n",
    "        title_text = title_element.text\n",
    "\n",
    "        price_element = product.find('div',{'class':'hpDKMN'})\n",
    "        price_text = price_element.text\n",
    "\n",
    "        sales_element = product.find('div',{'class':'r6HknA uEPGHT'})\n",
    "        if sales_element is None:\n",
    "            sales_text = None\n",
    "        else:\n",
    "            sales_text = sales_element.text\n",
    "               \n",
    "        product_link_element = product.find('a')\n",
    "        product_link = product_link_element.get('href')\n",
    "        \n",
    "        data_dict = dict()\n",
    "        data_dict['title'] = title_text\n",
    "        data_dict['price'] = price_text\n",
    "        data_dict['sales'] = sales_text\n",
    "        data_dict['link'] = product_link\n",
    "        data_dict_list.append(data_dict)\n",
    "    return data_dict_list\n",
    "\n",
    "def clean_price(price):\n",
    "    result = re.findall(r'[0-9.,]+',price)\n",
    "    if '-' in price:\n",
    "        original_price = None\n",
    "        min_price = result[0]\n",
    "        max_price = result[1]\n",
    "    elif len(result) == 2:\n",
    "        original_price = result[0]\n",
    "        min_price = result[1]\n",
    "        max_price = result[1]\n",
    "    elif len(result) == 1:\n",
    "        original_price = result[0]\n",
    "        min_price = result[0]\n",
    "        max_price = result[0]\n",
    "        \n",
    "    price_list =  [original_price,min_price,max_price]\n",
    "    price_clean_list = []\n",
    "    for price in price_list:\n",
    "        if price is None:\n",
    "            price_clean_list.append(None)\n",
    "        else:\n",
    "            price_clean_list.append(int(price.replace(',','')))\n",
    "    \n",
    "    return price_clean_list\n",
    "\n",
    "def clean_data(data_dict_list):\n",
    "    data_df = pd.DataFrame(data_dict_list)\n",
    "    price_clean_ser = data_df['price'].apply(clean_price)\n",
    "    price_clean_list = list(price_clean_ser)\n",
    "    price_clean_df = pd.DataFrame(price_clean_list, columns=['Original Price', 'Min Price', 'Max Price'])\n",
    "    price_data_df = pd.concat([data_df,price_clean_df],axis=1)\n",
    "    price_data_df = price_data_df.drop(columns=['price'])\n",
    "    \n",
    "    return price_data_df"
   ]
  },
  {
   "cell_type": "code",
   "execution_count": null,
   "id": "ae5df211",
   "metadata": {},
   "outputs": [],
   "source": [
    "data = get_data()\n",
    "data_dict_list = parse_data(data)\n",
    "df = clean_data(data_dict_list)\n",
    "df"
   ]
  },
  {
   "cell_type": "code",
   "execution_count": null,
   "id": "9143efa3",
   "metadata": {},
   "outputs": [],
   "source": []
  }
 ],
 "metadata": {
  "kernelspec": {
   "display_name": "Python 3.9.12 ('base')",
   "language": "python",
   "name": "python3"
  },
  "language_info": {
   "codemirror_mode": {
    "name": "ipython",
    "version": 3
   },
   "file_extension": ".py",
   "mimetype": "text/x-python",
   "name": "python",
   "nbconvert_exporter": "python",
   "pygments_lexer": "ipython3",
   "version": "3.9.12"
  },
  "vscode": {
   "interpreter": {
    "hash": "b09ec625f77bf4fd762565a912b97636504ad6ec901eb2d0f4cf5a7de23e1ee5"
   }
  }
 },
 "nbformat": 4,
 "nbformat_minor": 5
}
